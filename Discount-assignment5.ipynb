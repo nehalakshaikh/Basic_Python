{
 "cells": [
  {
   "cell_type": "code",
   "execution_count": null,
   "id": "1a0ac093",
   "metadata": {},
   "outputs": [],
   "source": [
    "Accept the input price from user in ‘$500’ like format(using input function), apply 15% discount on price and display final price to user in ‘$425’ format. \n",
    "Eg. \n",
    "Enter price: '$600' \n",
    "Final price: '$510' \n",
    "User will enter price along with $ sign. you have to remove it, take price in int format, apply discount, convert that in str, attach $ before calculated amount and then print final price. Upload .py of your code here and turn in submission.\n",
    "\n",
    "\n",
    "\n",
    "TEST CASES:\n",
    "     INPUT => OUTPUT\n",
    "1. $500    => $425\n",
    "2. $150    => $127.5"
   ]
  },
  {
   "cell_type": "code",
   "execution_count": 1,
   "id": "1174a02f",
   "metadata": {},
   "outputs": [
    {
     "name": "stdout",
     "output_type": "stream",
     "text": [
      "$500\n",
      "$425.0\n"
     ]
    }
   ],
   "source": [
    "price=input()\n",
    "A=int(price.strip('$'))\n",
    "discount=str(A-(A*15)/100)\n",
    "B='$'+discount\n",
    "print(B)\n"
   ]
  },
  {
   "cell_type": "code",
   "execution_count": null,
   "id": "5326b54b",
   "metadata": {},
   "outputs": [],
   "source": []
  }
 ],
 "metadata": {
  "kernelspec": {
   "display_name": "Python 3 (ipykernel)",
   "language": "python",
   "name": "python3"
  },
  "language_info": {
   "codemirror_mode": {
    "name": "ipython",
    "version": 3
   },
   "file_extension": ".py",
   "mimetype": "text/x-python",
   "name": "python",
   "nbconvert_exporter": "python",
   "pygments_lexer": "ipython3",
   "version": "3.9.12"
  }
 },
 "nbformat": 4,
 "nbformat_minor": 5
}
