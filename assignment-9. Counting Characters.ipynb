{
 "cells": [
  {
   "cell_type": "markdown",
   "id": "1c5fce99",
   "metadata": {},
   "source": [
    "# 9. Counting Characters"
   ]
  },
  {
   "cell_type": "code",
   "execution_count": null,
   "id": "ba57d049",
   "metadata": {},
   "outputs": [],
   "source": [
    "Write a program that accepts a sentence and calculate the number of letters and digits.\n",
    "Suppose the following input is supplied to the program: \"hello world! 123\"\n",
    "Then, the output should be:\n",
    "ALPHABETS 10 DIGITS 3\n",
    "(Note : Special symbols are not alphabets)\n"
   ]
  },
  {
   "cell_type": "code",
   "execution_count": 1,
   "id": "4de748e5",
   "metadata": {},
   "outputs": [
    {
     "name": "stdout",
     "output_type": "stream",
     "text": [
      "Write Sentence Here= hello world! 123\n",
      "ALPHABETS = 10 DIGITS = 3\n"
     ]
    }
   ],
   "source": [
    "STR1=input('Write Sentence Here= ')\n",
    "STR1=list(STR1)\n",
    "ALPHABETS=0\n",
    "DIGITS=0\n",
    "\n",
    "for i in STR1:\n",
    "    if i.isalpha():\n",
    "        ALPHABETS+=1\n",
    "    elif i.isdigit():\n",
    "        DIGITS+=1\n",
    "        \n",
    "print('ALPHABETS =',ALPHABETS ,'DIGITS =',DIGITS)"
   ]
  },
  {
   "cell_type": "code",
   "execution_count": null,
   "id": "ecdff13d",
   "metadata": {},
   "outputs": [],
   "source": []
  }
 ],
 "metadata": {
  "kernelspec": {
   "display_name": "Python 3 (ipykernel)",
   "language": "python",
   "name": "python3"
  },
  "language_info": {
   "codemirror_mode": {
    "name": "ipython",
    "version": 3
   },
   "file_extension": ".py",
   "mimetype": "text/x-python",
   "name": "python",
   "nbconvert_exporter": "python",
   "pygments_lexer": "ipython3",
   "version": "3.9.12"
  }
 },
 "nbformat": 4,
 "nbformat_minor": 5
}
