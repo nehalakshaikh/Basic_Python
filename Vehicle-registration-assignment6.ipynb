{
 "cells": [
  {
   "cell_type": "code",
   "execution_count": null,
   "id": "bdc0f0fd",
   "metadata": {},
   "outputs": [],
   "source": [
    "Write a python script to check whether vehicle registration number is valid or not? \n",
    "Eg. MH12AB1234, KA01AA0007 are valid numbers but P12A1234, MH123WA4567, MH14X4545, MH1AB12 are not valid. \n",
    "In general registration number must be in 'AABBCCDDDD' format where \n",
    "AA-State code(Alphabets), \n",
    "BB-RTO city code(number), \n",
    "CC-Series(alphabets), \n",
    "DDDD-number. \n",
    "Accept the input from user and print whether given input is valid or not.\n",
    "\n",
    "\n",
    "\n",
    "TEST CASES:\n",
    "     INPUT                 =>  OUTPUT\n",
    "1. MH12AB1234     => VALID\n",
    "2. KA01AA0007      => VALID\n",
    "3. P12A1234           => INVALID\n",
    "4. MH123WA4567  => INVALID\n",
    "5. MH14X4545       => INVALID\n",
    "6. MH1AB12           => INVALID"
   ]
  },
  {
   "cell_type": "code",
   "execution_count": 7,
   "id": "405575a3",
   "metadata": {},
   "outputs": [
    {
     "name": "stdout",
     "output_type": "stream",
     "text": [
      "MH12HD3245\n",
      "VALID\n"
     ]
    }
   ],
   "source": [
    "number=input()\n",
    "A=number[0:2]\n",
    "B=number[2:4]\n",
    "C=number[4:6]\n",
    "D=number[6:]\n",
    "E=['AP','AR','AS','BR','CG','CH','DL','GA','GJ','HR','HP','JH','JK','KA','KL','MH','LA','MN','MP',\n",
    "   'MZ','NL','OD','PY','PB','UK','RJ','SK','TS','TN','TR','UP','WB']\n",
    "if len(number)==10:\n",
    "    if A.isalpha():\n",
    "        if A.isupper():\n",
    "            if A in E:\n",
    "                if B.isalnum()==True:\n",
    "                    if C.isalpha()==True:\n",
    "                        if C.isupper():\n",
    "                            if D.isalnum()==True:\n",
    "                                print('VALID')\n",
    "                            else:\n",
    "                                print('INVALID')\n",
    "                        else:\n",
    "                            print('INVALID')\n",
    "                    else:\n",
    "                        print('INVALID')\n",
    "                else:\n",
    "                    print('INVALID')\n",
    "            else:\n",
    "                print('INVALID')\n",
    "        else:\n",
    "            print('INVALID')\n",
    "    else:\n",
    "        print('INVALID')\n",
    "else:            \n",
    "    print('INVALID')"
   ]
  },
  {
   "cell_type": "code",
   "execution_count": null,
   "id": "8cba5d11",
   "metadata": {},
   "outputs": [],
   "source": []
  }
 ],
 "metadata": {
  "kernelspec": {
   "display_name": "Python 3 (ipykernel)",
   "language": "python",
   "name": "python3"
  },
  "language_info": {
   "codemirror_mode": {
    "name": "ipython",
    "version": 3
   },
   "file_extension": ".py",
   "mimetype": "text/x-python",
   "name": "python",
   "nbconvert_exporter": "python",
   "pygments_lexer": "ipython3",
   "version": "3.9.12"
  }
 },
 "nbformat": 4,
 "nbformat_minor": 5
}
