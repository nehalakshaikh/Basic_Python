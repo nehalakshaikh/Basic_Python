{
 "cells": [
  {
   "cell_type": "markdown",
   "id": "c5d1b0a8",
   "metadata": {},
   "source": [
    "# 14. List Assignment"
   ]
  },
  {
   "cell_type": "raw",
   "id": "53eec3fe",
   "metadata": {},
   "source": [
    "Write a program which accepts a sequence of words separated by white space as input to store the words composed of digits only into the list. \n",
    "Example: If the following words are given as input to the program: \n",
    "\" My name is XYZ. My employee id is E1289 and age is 35 and salary is 120000 rs.\" \n",
    "Then, the output of the program should be: \n",
    "['35', '120000'] \n",
    "Your code should work for any input string.(Generalised code)\n",
    "(Please note that output is list object.)"
   ]
  },
  {
   "cell_type": "code",
   "execution_count": null,
   "id": "f68d9aba",
   "metadata": {},
   "outputs": [],
   "source": [
    "sen=input(\"WRITE SENTENCE HERE= \")\n",
    "n=[i for i in sen.split(' ') if i.isdigit()]\n",
    "print(\"words composed of digits=\",n)"
   ]
  },
  {
   "cell_type": "code",
   "execution_count": null,
   "id": "2b7de8d8",
   "metadata": {},
   "outputs": [],
   "source": []
  }
 ],
 "metadata": {
  "kernelspec": {
   "display_name": "Python 3 (ipykernel)",
   "language": "python",
   "name": "python3"
  },
  "language_info": {
   "codemirror_mode": {
    "name": "ipython",
    "version": 3
   },
   "file_extension": ".py",
   "mimetype": "text/x-python",
   "name": "python",
   "nbconvert_exporter": "python",
   "pygments_lexer": "ipython3",
   "version": "3.9.12"
  }
 },
 "nbformat": 4,
 "nbformat_minor": 5
}
