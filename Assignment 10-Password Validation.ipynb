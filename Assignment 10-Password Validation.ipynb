{
 "cells": [
  {
   "cell_type": "markdown",
   "id": "b2e50e3c",
   "metadata": {},
   "source": [
    "# 10 Password Validation"
   ]
  },
  {
   "cell_type": "raw",
   "id": "f90b9300",
   "metadata": {},
   "source": [
    "A website requires the users to input username and password to\n",
    "register. Write a program to check the validity of password input by\n",
    "users. Following are the criteria for checking the password:\n",
    "1. At least 1 letter between [a-z]\n",
    "2. At least 1 number between [0-9]\n",
    "3. At least 1 letter between [A-Z]\n",
    "4. At least 1 character from [$,#,@]\n",
    "5. Minimum length of password: 6\n",
    "6. Maximum length of password: 12\n",
    "Your\n",
    "program should accept a password from user and will check it according\n",
    "to the above criteria. Password that match the criteria are to be\n",
    "printed as valid else print invalid.\n",
    "Example If the following passwords are given as input to the program:\n",
    "ABd1234@1 => VALID\n",
    "F1#2w3E* => VALID\n",
    "2We3345 => INVALID"
   ]
  },
  {
   "cell_type": "code",
   "execution_count": 3,
   "id": "81b5d203",
   "metadata": {},
   "outputs": [
    {
     "name": "stdout",
     "output_type": "stream",
     "text": [
      "Enter Username= dhh\n",
      "Enter Password= F1#2w3E*\n",
      "VALID\n",
      "Registration Completed\n"
     ]
    }
   ],
   "source": [
    "username= input(\"Enter Username= \")\n",
    "password= input(\"Enter Password= \")\n",
    "pass1= list(password)\n",
    "if 3<=len(password)<=12:\n",
    "    num=0\n",
    "    upp=0\n",
    "    low=0\n",
    "    sc=0\n",
    "    for i in pass1:\n",
    "        if i.isalnum():\n",
    "            num+=1\n",
    "        if i.isupper():\n",
    "            upp+=1\n",
    "        if i.lower():\n",
    "            low+=1\n",
    "        if i in '$,#,@':\n",
    "            sc+=1\n",
    "    if num!=0 and upp!=0 and low!=0 and sc!=0:\n",
    "        print('VALID')\n",
    "        print('Registration Completed')\n",
    "    elif num==0:\n",
    "        print('INVALID')\n",
    "        print('Password Must Contain least One Number')\n",
    "    elif upp==0 or low==0:\n",
    "        print('INVALID')\n",
    "        print('Password Must Conatin Least One upper letter Or One Lower letter')\n",
    "    elif sc==0:\n",
    "        print('INVALID')\n",
    "        print('Password Must Contain Least One of this sprcial charecter $,#,@')\n",
    "else:\n",
    "    print('INVALID')\n",
    "    print('password Must Contain Minimum 3 Character Maximum 12 Character')\n",
    "                    \n",
    "                    "
   ]
  },
  {
   "cell_type": "code",
   "execution_count": null,
   "id": "b0ef6c63",
   "metadata": {},
   "outputs": [],
   "source": []
  }
 ],
 "metadata": {
  "kernelspec": {
   "display_name": "Python 3 (ipykernel)",
   "language": "python",
   "name": "python3"
  },
  "language_info": {
   "codemirror_mode": {
    "name": "ipython",
    "version": 3
   },
   "file_extension": ".py",
   "mimetype": "text/x-python",
   "name": "python",
   "nbconvert_exporter": "python",
   "pygments_lexer": "ipython3",
   "version": "3.9.12"
  }
 },
 "nbformat": 4,
 "nbformat_minor": 5
}
