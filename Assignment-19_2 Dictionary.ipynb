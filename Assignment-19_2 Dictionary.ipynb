{
 "cells": [
  {
   "cell_type": "markdown",
   "id": "3e35a7df",
   "metadata": {},
   "source": [
    "# 19_2 Dictionary"
   ]
  },
  {
   "cell_type": "raw",
   "id": "e83073bf",
   "metadata": {},
   "source": [
    "Q.1 Write a Python program to replace dictionary values with their average.\n",
    "      Input :  dict1 = {'id' : 1, 'subject' : 'math', 'V' : 70, 'VI' : 82}\n",
    "              output: {'id': 1, 'subject': 'math', 'V+VI': 76.0}\n",
    "\n",
    "\n",
    "Q.2 Write a Python program to filter the height and weight of students, which are stored in a dictionary. Go to the editorOriginal Dictionary:\n",
    "{'Prakash': (6.2, 70), 'Rahul': (5.9, 65), 'Riyaz': (6.0, 68), 'Kiran': (5.8, 66)}\n",
    "Height >= 6ft and Weight>= 70kg:\n",
    "{'Prakash': (6.2, 70)}"
   ]
  },
  {
   "cell_type": "code",
   "execution_count": 8,
   "id": "ae211e4f",
   "metadata": {},
   "outputs": [],
   "source": [
    "def get_average(dict1):\n",
    "    m1=dict1.pop('V')\n",
    "    m2=dict1.pop('VI')\n",
    "    dict1['V+VI']=(m1+m2)/2\n",
    "    return dict1\n",
    "\n",
    "       "
   ]
  },
  {
   "cell_type": "code",
   "execution_count": 9,
   "id": "9d6b5594",
   "metadata": {},
   "outputs": [
    {
     "data": {
      "text/plain": [
       "{'id': 1, 'subject': 'math', 'V+VI': 76.0}"
      ]
     },
     "execution_count": 9,
     "metadata": {},
     "output_type": "execute_result"
    }
   ],
   "source": [
    "dict1 = {'id' : 1, 'subject' : 'math', 'V' : 70, 'VI' : 82}\n",
    "get_average(dict1)"
   ]
  },
  {
   "cell_type": "code",
   "execution_count": 10,
   "id": "38ce1834",
   "metadata": {},
   "outputs": [],
   "source": [
    "def filter_student(student):\n",
    "    return {k: s for k, s in student.items() if s[0]>=6.0 and s[1]>=70}"
   ]
  },
  {
   "cell_type": "code",
   "execution_count": 11,
   "id": "babae9ef",
   "metadata": {},
   "outputs": [
    {
     "data": {
      "text/plain": [
       "{'Prakash': (6.2, 70)}"
      ]
     },
     "execution_count": 11,
     "metadata": {},
     "output_type": "execute_result"
    }
   ],
   "source": [
    "student1={'Prakash': (6.2, 70), 'Rahul': (5.9, 65), 'Riyaz': (6.0, 68), 'Kiran': (5.8, 66)}\n",
    "filter_student(student1)"
   ]
  },
  {
   "cell_type": "code",
   "execution_count": null,
   "id": "8d610124",
   "metadata": {},
   "outputs": [],
   "source": []
  }
 ],
 "metadata": {
  "kernelspec": {
   "display_name": "Python 3 (ipykernel)",
   "language": "python",
   "name": "python3"
  },
  "language_info": {
   "codemirror_mode": {
    "name": "ipython",
    "version": 3
   },
   "file_extension": ".py",
   "mimetype": "text/x-python",
   "name": "python",
   "nbconvert_exporter": "python",
   "pygments_lexer": "ipython3",
   "version": "3.9.12"
  }
 },
 "nbformat": 4,
 "nbformat_minor": 5
}
