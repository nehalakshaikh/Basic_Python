{
 "cells": [
  {
   "cell_type": "markdown",
   "id": "3861016c",
   "metadata": {},
   "source": [
    "# 13. Spy number"
   ]
  },
  {
   "cell_type": "raw",
   "id": "d48b778c",
   "metadata": {},
   "source": [
    "Write a function which returns True if given number is spy number else returns False.\n",
    "Use that function in a loop to print all spy numbers between 100 to 500."
   ]
  },
  {
   "cell_type": "code",
   "execution_count": 1,
   "id": "b769b700",
   "metadata": {},
   "outputs": [],
   "source": [
    "import functools"
   ]
  },
  {
   "cell_type": "code",
   "execution_count": 6,
   "id": "4f2109ca",
   "metadata": {},
   "outputs": [
    {
     "name": "stdout",
     "output_type": "stream",
     "text": [
      "123\n",
      "132\n",
      "213\n",
      "231\n",
      "312\n",
      "321\n"
     ]
    },
    {
     "data": {
      "text/plain": [
       "[None, None, None, None, None, None]"
      ]
     },
     "execution_count": 6,
     "metadata": {},
     "output_type": "execute_result"
    }
   ],
   "source": [
    "def spy_number(x):\n",
    "    st=str(x)\n",
    "    l= [int(i) for i in str(x)]\n",
    "    s=functools.reduce(lambda x,y:x+y,l)\n",
    "    m=functools.reduce(lambda x,y:x*y,l)\n",
    "    return s==m\n",
    "\n",
    "[print(i) for i in range(100,501) if spy_number(i)]\n",
    "    "
   ]
  },
  {
   "cell_type": "code",
   "execution_count": null,
   "id": "16451b53",
   "metadata": {},
   "outputs": [],
   "source": []
  }
 ],
 "metadata": {
  "kernelspec": {
   "display_name": "Python 3 (ipykernel)",
   "language": "python",
   "name": "python3"
  },
  "language_info": {
   "codemirror_mode": {
    "name": "ipython",
    "version": 3
   },
   "file_extension": ".py",
   "mimetype": "text/x-python",
   "name": "python",
   "nbconvert_exporter": "python",
   "pygments_lexer": "ipython3",
   "version": "3.9.12"
  }
 },
 "nbformat": 4,
 "nbformat_minor": 5
}
