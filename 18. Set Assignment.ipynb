{
 "cells": [
  {
   "cell_type": "markdown",
   "id": "513811f5",
   "metadata": {},
   "source": [
    "# 18. Set Assignment"
   ]
  },
  {
   "cell_type": "raw",
   "id": "a27a8956",
   "metadata": {},
   "source": [
    "The class has students roll numbered from 1 to 20. \n",
    "G1 = {1,2,3,4,5,6,7,8,9} \n",
    "G2 = {5,6,7,8,9,10,11,12,13} \n",
    "G3 = {1,2,6,7,11,12,15,16,20} \n",
    "G1 is set of roll numbers who play Cricket. G2 is set of roll numbers who play Football. G3 is set of roll numbers who play Chess. \n",
    "Write a python Script to answer following Question \n",
    "1. Find out the roll number of students who play outdoor games only. \n",
    "2. Find out the roll number of students who play all games. \n",
    "3. Find out the roll number of students who play nothing. \n",
    "4. Find out the roll number of students who play \"at least one outdoor game\" and chess. \n",
    "5. Find out the roll number of students who play cricket and chess but not football."
   ]
  },
  {
   "cell_type": "code",
   "execution_count": 6,
   "id": "09a080f0",
   "metadata": {},
   "outputs": [
    {
     "name": "stdout",
     "output_type": "stream",
     "text": [
      "roll number of students who play outdoor games only= {1, 2, 3, 4, 5, 6, 7, 8, 9, 10, 11, 12, 13}\n",
      "roll number of students who play all games= {1, 2, 3, 4, 5, 6, 7, 8, 9, 10, 11, 12, 13, 15, 16, 20}\n",
      "roll number of students who play nothing= {14, 17, 18, 19}\n",
      "roll number of students who play \"at least one outdoor game\" and chess= {1, 2, 6, 7, 11, 12}\n",
      "roll number of students who play cricket and chess but not football= {1, 2}\n"
     ]
    }
   ],
   "source": [
    "roll_no={1,2,3,4,5,6,7,8,9,10,11,12,13,14,15,16,17,18,19,20}\n",
    "G1 = {1,2,3,4,5,6,7,8,9} #Cricket\n",
    "G2 = {5,6,7,8,9,10,11,12,13} #Football\n",
    "G3 = {1,2,6,7,11,12,15,16,20} #Chess\n",
    "\n",
    "# 1. Find out the roll number of students who play outdoor games only. \n",
    "print(\"roll number of students who play outdoor games only=\",G1.union(G2))\n",
    "\n",
    "# 2. Find out the roll number of students who play all games. \n",
    "print(\"roll number of students who play all games=\",G1.union(G2,G3))\n",
    "\n",
    "# 3. Find out the roll number of students who play nothing. \n",
    "print(\"roll number of students who play nothing=\",roll_no.difference(G1,G2,G3))\n",
    "\n",
    "# 4. Find out the roll number of students who play \"at least one outdoor game\" and chess. \n",
    "print('roll number of students who play \"at least one outdoor game\" and chess=',G3.intersection(G1.union(G2)))\n",
    "\n",
    "# 5. Find out the roll number of students who play cricket and chess but not football.\n",
    "print('roll number of students who play cricket and chess but not football=',(G3.intersection(G1)).difference(G2))\n"
   ]
  }
 ],
 "metadata": {
  "kernelspec": {
   "display_name": "Python 3 (ipykernel)",
   "language": "python",
   "name": "python3"
  },
  "language_info": {
   "codemirror_mode": {
    "name": "ipython",
    "version": 3
   },
   "file_extension": ".py",
   "mimetype": "text/x-python",
   "name": "python",
   "nbconvert_exporter": "python",
   "pygments_lexer": "ipython3",
   "version": "3.9.12"
  }
 },
 "nbformat": 4,
 "nbformat_minor": 5
}
