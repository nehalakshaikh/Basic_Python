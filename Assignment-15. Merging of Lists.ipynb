{
 "cells": [
  {
   "cell_type": "markdown",
   "id": "1fb1778d",
   "metadata": {},
   "source": [
    "# 15. Merging of Lists"
   ]
  },
  {
   "cell_type": "raw",
   "id": "29cf4aeb",
   "metadata": {},
   "source": [
    "We have two sorted lists, and we want to write a function to merge the two sorted lists into one sorted list without using inbuilt sort function. Input to the function are two already sorted list and it should return merged sorted list. \n",
    "Eg. \n",
    "input: a = [3, 4, 6, 10, 11, 18] b = [1, 5, 7, 12, 13, 19, 21] \n",
    "output: [1, 3, 4, 5, 6, 7, 10, 11, 12, 13, 18, 19, 21]\n",
    "Your code must be generalised one so that could work with any lists."
   ]
  },
  {
   "cell_type": "code",
   "execution_count": 1,
   "id": "7054cddb",
   "metadata": {},
   "outputs": [],
   "source": [
    "def get_merged(a,b):\n",
    "    a.extend(b)\n",
    "    c=[]\n",
    "    for i in range(len(a)):\n",
    "        c.append(min(a))\n",
    "        a.remove(min(a))\n",
    "    return c"
   ]
  },
  {
   "cell_type": "code",
   "execution_count": 2,
   "id": "68c08630",
   "metadata": {},
   "outputs": [
    {
     "data": {
      "text/plain": [
       "[1, 3, 4, 5, 6, 7, 10, 11, 12, 13, 18, 19, 21]"
      ]
     },
     "execution_count": 2,
     "metadata": {},
     "output_type": "execute_result"
    }
   ],
   "source": [
    "a = [3, 4, 6, 10, 11, 18] \n",
    "b = [1, 5, 7, 12, 13, 19, 21] \n",
    "get_merged(a,b)"
   ]
  }
 ],
 "metadata": {
  "kernelspec": {
   "display_name": "Python 3 (ipykernel)",
   "language": "python",
   "name": "python3"
  },
  "language_info": {
   "codemirror_mode": {
    "name": "ipython",
    "version": 3
   },
   "file_extension": ".py",
   "mimetype": "text/x-python",
   "name": "python",
   "nbconvert_exporter": "python",
   "pygments_lexer": "ipython3",
   "version": "3.9.12"
  }
 },
 "nbformat": 4,
 "nbformat_minor": 5
}
