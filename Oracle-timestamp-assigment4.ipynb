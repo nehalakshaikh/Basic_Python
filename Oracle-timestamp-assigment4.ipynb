{
 "cells": [
  {
   "cell_type": "code",
   "execution_count": null,
   "id": "3a746f2b",
   "metadata": {},
   "outputs": [],
   "source": [
    "'YYYY-MM-DD HH:MI:SS.FF’ \n",
    "Given is the format for timestamp in oracle. Write a Python script to extract Date, Month, Year, Hour, Mins from the given format and print. \n",
    "Eg. If we give input as ‘1999-12-31 23:59:50.10’. \n",
    "Then output must be Date:31 Month:12 Year:1999 Hour:23 Mins:59 \n",
    "Upload .py file and turn in Assignment.\n",
    "\n",
    "\n",
    "\n",
    "Test Cases:\n",
    "     INPUT                                  => OUTPUT\n",
    "1. ‘1999-12-31 23:59:50.10’ => Date:31 Month:12 Year:1999 Hour:23 Mins:59\n",
    "2. ‘2021-12-05 03:22:50.10’ => Date:05 Month:12 Year:2021 Hour:03 Mins:22"
   ]
  },
  {
   "cell_type": "code",
   "execution_count": 1,
   "id": "40cc418c",
   "metadata": {},
   "outputs": [
    {
     "name": "stdout",
     "output_type": "stream",
     "text": [
      "1999-12-31 23:59:50.10\n",
      "{'Date': 31, 'Month': 12, 'Year': 1999, 'Hour': 23, 'Mins': 59}\n"
     ]
    }
   ],
   "source": [
    "timestamp=input()\n",
    "A=timestamp.split(' ')\n",
    "A1=A[0].split('-')\n",
    "A2=A[1].split(':')\n",
    "D={\"Date\":int(A1[2]),\"Month\":int(A1[1]),\"Year\":int(A1[0]),\"Hour\":int(A2[0]),\"Mins\":int(A2[1])}\n",
    "print(D)\n"
   ]
  },
  {
   "cell_type": "code",
   "execution_count": null,
   "id": "847ee28d",
   "metadata": {},
   "outputs": [],
   "source": []
  }
 ],
 "metadata": {
  "kernelspec": {
   "display_name": "Python 3 (ipykernel)",
   "language": "python",
   "name": "python3"
  },
  "language_info": {
   "codemirror_mode": {
    "name": "ipython",
    "version": 3
   },
   "file_extension": ".py",
   "mimetype": "text/x-python",
   "name": "python",
   "nbconvert_exporter": "python",
   "pygments_lexer": "ipython3",
   "version": "3.9.12"
  }
 },
 "nbformat": 4,
 "nbformat_minor": 5
}
