{
 "cells": [
  {
   "cell_type": "markdown",
   "id": "aa052daa",
   "metadata": {},
   "source": [
    "# 17. List combinations using comprehension"
   ]
  },
  {
   "cell_type": "raw",
   "id": "9b0ecbfa",
   "metadata": {},
   "source": [
    "Following is list of symbols to be used to create password of length 3. Password must have character from all lists, \n",
    "special_symbols = ['@','#','$'] \n",
    "numbers = ['1','2','3'] \n",
    "alphabets = ['a','b','c'] \n",
    "Total possible combinations of password is 27. \n",
    "Write a program to create list of those 27 passwords using list comprehension. \n",
    "Expected output: \n",
    "['@1a', '@1b', '@1c', '@2a', '@2b', '@2c', '@3a', '@3b', '@3c', '#1a', '#1b', '#1c', '#2a', '#2b', '#2c', '#3a', '#3b', '#3c', '$1a', '$1b', '$1c', '$2a', '$2b', '$2c', '$3a', '$3b', '$3c']"
   ]
  },
  {
   "cell_type": "code",
   "execution_count": 1,
   "id": "4e0961fa",
   "metadata": {},
   "outputs": [
    {
     "name": "stdout",
     "output_type": "stream",
     "text": [
      "All possible permutations are :  ['@1a', '@1b', '@1c', '@2a', '@2b', '@2c', '@3a', '@3b', '@3c', '#1a', '#1b', '#1c', '#2a', '#2b', '#2c', '#3a', '#3b', '#3c', '$1a', '$1b', '$1c', '$2a', '$2b', '$2c', '$3a', '$3b', '$3c']\n"
     ]
    }
   ],
   "source": [
    "special_symbols = [\"@\",\"#\",\"$\"]\n",
    "numbers= [\"1\",\"2\",\"3\"]\n",
    "alphabets= [\"a\",\"b\",\"c\"]\n",
    "\n",
    "  \n",
    "# using list comprehension  \n",
    "\n",
    "res = [\"\".join([i, j, k]) for i in special_symbols \n",
    "\n",
    "                 for j in numbers\n",
    "\n",
    "                 for k in alphabets]\n",
    "\n",
    "\n",
    "print (\"All possible permutations are : \", res)"
   ]
  },
  {
   "cell_type": "code",
   "execution_count": null,
   "id": "9ecb9041",
   "metadata": {},
   "outputs": [],
   "source": []
  }
 ],
 "metadata": {
  "kernelspec": {
   "display_name": "Python 3 (ipykernel)",
   "language": "python",
   "name": "python3"
  },
  "language_info": {
   "codemirror_mode": {
    "name": "ipython",
    "version": 3
   },
   "file_extension": ".py",
   "mimetype": "text/x-python",
   "name": "python",
   "nbconvert_exporter": "python",
   "pygments_lexer": "ipython3",
   "version": "3.9.12"
  }
 },
 "nbformat": 4,
 "nbformat_minor": 5
}
