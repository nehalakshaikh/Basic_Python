{
 "cells": [
  {
   "cell_type": "markdown",
   "id": "f53cfef0",
   "metadata": {},
   "source": [
    "# 12. Banking Operations"
   ]
  },
  {
   "cell_type": "raw",
   "id": "eab74a02",
   "metadata": {},
   "source": [
    "Write a program that computes the net amount of a bank account based a transaction log from console input. The transaction log format is shown as following: \n",
    "D 100 or W 200 or Q \n",
    "(Withdrawal is not allowed if balance is going negative. Write functions for withdraw and deposit)\n",
    "D means deposit while W means withdrawal and Q for quit. \n",
    "Suppose the following input is supplied to the program (User can make any number of transactions): \n",
    "Enter Operation: D 300 \n",
    "Enter Operation: D 300 \n",
    "Enter Operation: W 200 \n",
    "Enter Operation: D 100 \n",
    "Enter Operation: Q \n",
    "Then, the output should be\n",
    "Final Balance: 500"
   ]
  },
  {
   "cell_type": "code",
   "execution_count": null,
   "id": "4b64bda5",
   "metadata": {},
   "outputs": [],
   "source": [
    "Final_Balance=0\n",
    "\n",
    "def deposite(n):\n",
    "    x=Final_Balance+int(n)\n",
    "    return x\n",
    "def withdrawal(n):\n",
    "    if int(n)<Final_Balance:\n",
    "        x=Final_Balance-int(n)\n",
    "        return x\n",
    "    else:\n",
    "        return\n",
    "while True:\n",
    "    operation=(input(\"Enter Operation: \")).upper()\n",
    "    operation=operation.split(\" \")\n",
    "    if operation[0]==\"D\":\n",
    "        Final_Balance+=deposite(operation[1])\n",
    "    elif operation[0]==\"W\":\n",
    "        if withdrawal(operation[1])!=None:\n",
    "            Final_Balance-=withdrawal(operation[1])\n",
    "        else:\n",
    "            print(\"YOU HAVE INSUFFICIENT BALANCE. YOU CAN WITHDRAW UPTO=\",Final_Balance)\n",
    "    elif operation[0]==\"Q\":\n",
    "        print(\"Final Balance:\",Final_Balance)\n",
    "        break"
   ]
  },
  {
   "cell_type": "code",
   "execution_count": null,
   "id": "b26b24d3",
   "metadata": {},
   "outputs": [],
   "source": []
  }
 ],
 "metadata": {
  "kernelspec": {
   "display_name": "Python 3 (ipykernel)",
   "language": "python",
   "name": "python3"
  },
  "language_info": {
   "codemirror_mode": {
    "name": "ipython",
    "version": 3
   },
   "file_extension": ".py",
   "mimetype": "text/x-python",
   "name": "python",
   "nbconvert_exporter": "python",
   "pygments_lexer": "ipython3",
   "version": "3.9.12"
  }
 },
 "nbformat": 4,
 "nbformat_minor": 5
}
