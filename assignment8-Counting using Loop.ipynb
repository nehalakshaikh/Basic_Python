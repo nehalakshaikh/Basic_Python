{
 "cells": [
  {
   "cell_type": "markdown",
   "id": "01392ab1",
   "metadata": {},
   "source": [
    "# 8. Counting using Loop"
   ]
  },
  {
   "cell_type": "code",
   "execution_count": null,
   "id": "143ae0cd",
   "metadata": {},
   "outputs": [],
   "source": [
    "Write a code in python to count number of vowels in given string\n",
    "Steps:\n",
    "a. Accept string from user in variable named STR1.\n",
    "b. Count the number of vowels in STR1 and print.\n",
    "Eg.\n",
    "1.STR1 = 'COCONUT' => 3\n",
    "2.STR1 = 'CONFIDence' => 4"
   ]
  },
  {
   "cell_type": "code",
   "execution_count": 2,
   "id": "9a3902b9",
   "metadata": {},
   "outputs": [
    {
     "name": "stdout",
     "output_type": "stream",
     "text": [
      "Write HereCOCONUT\n",
      "Number of Vowels= 3\n"
     ]
    }
   ],
   "source": [
    "STR1= input('Write Here')\n",
    "STR1=STR1.upper()\n",
    "count=0\n",
    "\n",
    "for i in STR1:\n",
    "    if i in 'AEIOU':\n",
    "        count+=1\n",
    "        \n",
    "print('Number of Vowels=',count)"
   ]
  },
  {
   "cell_type": "code",
   "execution_count": null,
   "id": "d98d709e",
   "metadata": {},
   "outputs": [],
   "source": []
  }
 ],
 "metadata": {
  "kernelspec": {
   "display_name": "Python 3 (ipykernel)",
   "language": "python",
   "name": "python3"
  },
  "language_info": {
   "codemirror_mode": {
    "name": "ipython",
    "version": 3
   },
   "file_extension": ".py",
   "mimetype": "text/x-python",
   "name": "python",
   "nbconvert_exporter": "python",
   "pygments_lexer": "ipython3",
   "version": "3.9.12"
  }
 },
 "nbformat": 4,
 "nbformat_minor": 5
}
