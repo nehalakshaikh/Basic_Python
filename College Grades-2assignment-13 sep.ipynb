{
 "cells": [
  {
   "cell_type": "code",
   "execution_count": null,
   "id": "a55df588",
   "metadata": {},
   "outputs": [],
   "source": [
    "grade = int(input(\"ENTER YOUR MARK\"))\n",
    "\n",
    "\n",
    "if grade in range(0,100):\n",
    "    if grade >=40:\n",
    "        if (grade % 5)>=3:\n",
    "            c1=((grade//5)+1)*5\n",
    "            print(\"YOUR GRADE=\",c1)\n",
    "        else:\n",
    "            f1= (grade//5)*5\n",
    "            print(\"YOUR GRADE=\",f1)\n",
    "    else:\n",
    "        print(\"YOU ARE FAIL\")       \n",
    "else:\n",
    "    print(\"INVALID MARKS\")\n",
    "    "
   ]
  },
  {
   "cell_type": "code",
   "execution_count": null,
   "id": "f2f22395",
   "metadata": {},
   "outputs": [],
   "source": []
  }
 ],
 "metadata": {
  "kernelspec": {
   "display_name": "Python 3 (ipykernel)",
   "language": "python",
   "name": "python3"
  },
  "language_info": {
   "codemirror_mode": {
    "name": "ipython",
    "version": 3
   },
   "file_extension": ".py",
   "mimetype": "text/x-python",
   "name": "python",
   "nbconvert_exporter": "python",
   "pygments_lexer": "ipython3",
   "version": "3.9.12"
  }
 },
 "nbformat": 4,
 "nbformat_minor": 5
}
