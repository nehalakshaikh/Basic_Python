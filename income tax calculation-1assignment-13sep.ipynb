{
 "cells": [
  {
   "cell_type": "code",
   "execution_count": null,
   "id": "9d9a65f4",
   "metadata": {},
   "outputs": [],
   "source": [
    "annual_income = int(input(\"YOUR ANNUAL INCOME=\"))\n",
    "\n",
    "if annual_income <= 250000:\n",
    "    print(\"YOU HAVE TO PAY '0' REPEES TAX\")\n",
    "elif annual_income in range(250001,500001):\n",
    "    ai1=(annual_income -250000)*0.05\n",
    "    print(\"YOU HAVE TO PAY\",ai1,\"RUPEES TAX\")\n",
    "elif annual_income in range(500001,1000001):\n",
    "    ai2=(annual_income -500000)*0.1\n",
    "    bi1=12500+ai2\n",
    "    print(\"YOU HAVE TO PAY\",bi1,\"RUPEES TAX\")\n",
    "elif (annual_income > 1000000):\n",
    "    ai3 =(annual_income -1000000)*0.3\n",
    "    bi2 =12500+50000+ai3\n",
    "    print(\"YOU HAVE TO PAY\",bi2,\"RUPEES TAX\")\n",
    "    "
   ]
  },
  {
   "cell_type": "code",
   "execution_count": null,
   "id": "fb328db5",
   "metadata": {},
   "outputs": [],
   "source": []
  }
 ],
 "metadata": {
  "kernelspec": {
   "display_name": "Python 3 (ipykernel)",
   "language": "python",
   "name": "python3"
  },
  "language_info": {
   "codemirror_mode": {
    "name": "ipython",
    "version": 3
   },
   "file_extension": ".py",
   "mimetype": "text/x-python",
   "name": "python",
   "nbconvert_exporter": "python",
   "pygments_lexer": "ipython3",
   "version": "3.9.12"
  }
 },
 "nbformat": 4,
 "nbformat_minor": 5
}
