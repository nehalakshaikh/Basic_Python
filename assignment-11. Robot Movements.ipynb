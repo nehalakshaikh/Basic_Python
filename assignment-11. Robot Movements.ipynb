{
 "cells": [
  {
   "cell_type": "markdown",
   "id": "e24b8399",
   "metadata": {},
   "source": [
    "# 11. Robot Movements"
   ]
  },
  {
   "cell_type": "raw",
   "id": "f3b42415",
   "metadata": {},
   "source": [
    "A robot moves in a plane starting from the original point (0,0)(Refer a attached figure). The robot can move toward UP, DOWN, LEFT, RIGHT and STOP with a given steps.\n",
    "\n",
    "The numbers after the direction are number of steps to move. Please write a program to print final position of robot after a sequence of movements. (UP(+)/DOWN(-)=> Y Position, RIGHT(+)/LEFT(-)=> X Position)\n",
    "Accept command from the user in loop till user enters STOP command.\n",
    "Example: If the following is given as an input to the program:\n",
    "Enter Command: UP 5\n",
    "Enter Command: LEFT 3\n",
    "Enter Command: DOWN 6\n",
    "Enter Command: RIGHT 4\n",
    "Enter Command: STOP\n",
    "Then, the output of the program should be: 1, -1"
   ]
  },
  {
   "cell_type": "code",
   "execution_count": 1,
   "id": "d1feebcc",
   "metadata": {},
   "outputs": [
    {
     "name": "stdout",
     "output_type": "stream",
     "text": [
      "Enter Command: up 5\n",
      "Enter Command: left 3\n",
      "Enter Command: down 6\n",
      "Enter Command: right 4\n",
      "Enter Command: stop\n",
      "[1, -1]\n"
     ]
    }
   ],
   "source": [
    "org_point=[0,0]\n",
    "cmd=(input(\"Enter Command: \")).upper()\n",
    "cmd=cmd.split(' ')\n",
    "while cmd[0]!=\"STOP\":\n",
    "    if cmd[0]==\"UP\":\n",
    "        org_point[1]+=int(cmd[1])\n",
    "        cmd=(input(\"Enter Command: \")).upper()\n",
    "        cmd=cmd.split(' ')\n",
    "    elif cmd[0]==\"DOWN\":\n",
    "        org_point[1]-=int(cmd[1])\n",
    "        cmd=(input(\"Enter Command: \")).upper()\n",
    "        cmd=cmd.split(' ')\n",
    "    elif cmd[0]==\"RIGHT\":\n",
    "        org_point[0]+=int(cmd[1])\n",
    "        cmd=(input(\"Enter Command: \")).upper()\n",
    "        cmd=cmd.split(' ')\n",
    "    elif cmd[0]==\"LEFT\":\n",
    "        org_point[0]-=int(cmd[1])\n",
    "        cmd=(input(\"Enter Command: \")).upper()\n",
    "        cmd=cmd.split(' ')\n",
    "    else:\n",
    "        print(\"INVALID COMMAND\")\n",
    "        cmd=(input(\"Enter Command: \")).upper()\n",
    "        cmd=cmd.split(' ')\n",
    "print(org_point)"
   ]
  },
  {
   "cell_type": "code",
   "execution_count": null,
   "id": "bc662a2c",
   "metadata": {},
   "outputs": [],
   "source": []
  }
 ],
 "metadata": {
  "kernelspec": {
   "display_name": "Python 3 (ipykernel)",
   "language": "python",
   "name": "python3"
  },
  "language_info": {
   "codemirror_mode": {
    "name": "ipython",
    "version": 3
   },
   "file_extension": ".py",
   "mimetype": "text/x-python",
   "name": "python",
   "nbconvert_exporter": "python",
   "pygments_lexer": "ipython3",
   "version": "3.9.12"
  }
 },
 "nbformat": 4,
 "nbformat_minor": 5
}
