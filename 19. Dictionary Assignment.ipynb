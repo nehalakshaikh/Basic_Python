{
 "cells": [
  {
   "cell_type": "markdown",
   "id": "006a6dd4",
   "metadata": {},
   "source": [
    "# 19. Dictionary Assignment"
   ]
  },
  {
   "cell_type": "raw",
   "id": "07062f86",
   "metadata": {},
   "source": [
    "Create a dictionary from given list of numbers where dict key is number of digits and value is list of numbers which has that much digits into it. \n",
    "Eg input: \n",
    "L = [1,2,4,8,16,32,64,128,256,512,1024,32768,65536,4294967296] \n",
    "Output: \n",
    "{1: [1, 2, 4, 8], 2: [16, 32, 64], 3: [128, 256, 512], 4: [1024], 5: [32768, 65536], 10: [4294967296]}"
   ]
  },
  {
   "cell_type": "code",
   "execution_count": 12,
   "id": "6e1205e0",
   "metadata": {},
   "outputs": [
    {
     "name": "stdout",
     "output_type": "stream",
     "text": [
      "{1: [1, 2, 4, 8], 2: [16, 32, 64], 3: [128, 256, 512], 4: [1024], 5: [32768, 65536], 10: [4294967296]}\n"
     ]
    }
   ],
   "source": [
    "L = [1,2,4,8,16,32,64,128,256,512,1024,32768,65536,4294967296] \n",
    "d={}\n",
    "for i in L:\n",
    "    if len(str(i)) in d.keys():\n",
    "        d[len(str(i))].append(i)\n",
    "    else:\n",
    "        d[len(str(i))]=[i]\n",
    "print(d)"
   ]
  },
  {
   "cell_type": "code",
   "execution_count": 33,
   "id": "c4c9f494",
   "metadata": {},
   "outputs": [
    {
     "name": "stdout",
     "output_type": "stream",
     "text": [
      "{1: [1, 2, 4, 8], 2: [16, 32, 64], 3: [128, 256, 512], 4: [1024], 5: [32768, 65536], 10: [4294967296]}\n"
     ]
    }
   ],
   "source": [
    "L = [1,2,4,8,16,32,64,128,256,512,1024,32768,65536,4294967296]\n",
    "\n",
    "from collections import defaultdict\n",
    "d = defaultdict(list)\n",
    "for i in L:\n",
    "    d[len(str(i))].append(i)\n",
    "# print(d)\n",
    "print({k:v for k,v in d.items()})"
   ]
  }
 ],
 "metadata": {
  "kernelspec": {
   "display_name": "Python 3 (ipykernel)",
   "language": "python",
   "name": "python3"
  },
  "language_info": {
   "codemirror_mode": {
    "name": "ipython",
    "version": 3
   },
   "file_extension": ".py",
   "mimetype": "text/x-python",
   "name": "python",
   "nbconvert_exporter": "python",
   "pygments_lexer": "ipython3",
   "version": "3.9.12"
  }
 },
 "nbformat": 4,
 "nbformat_minor": 5
}
