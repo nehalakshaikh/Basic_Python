{
 "cells": [
  {
   "cell_type": "markdown",
   "id": "6f086bfa",
   "metadata": {},
   "source": [
    "# 16. Date Formatting\n"
   ]
  },
  {
   "cell_type": "raw",
   "id": "d0655ec2",
   "metadata": {},
   "source": [
    "Write a python function to get well formatted date. Input date format to the function is \"DD/MM/YYYY\" and the output format must be \"DD Month YYYY\". \n",
    "Eg. If \"15/05/1995\" is the input to the function then it must return \"15 May 1995\" string. \n",
    "You must use following MONTH list in your code. \n",
    "\n",
    "\n",
    "MONTH = [None, 'Jan', 'Feb','Mar','Apr','May','Jun','Jul','Aug','Sep','Oct','Nov','Dec'] \n",
    "\n",
    "\n",
    "Test Cases (INPUT=>OUTPUT) \n",
    "1. '01/01/2001' => '01 Jan 2001' \n",
    "2. '20/5/2010' => '20 May 2010' \n",
    "3. '9/9/2021' => '9 Sep 2021'"
   ]
  },
  {
   "cell_type": "code",
   "execution_count": 1,
   "id": "e148a3be",
   "metadata": {},
   "outputs": [],
   "source": [
    "def get_well_format(date):    \n",
    "    MONTH = [None, 'Jan', 'Feb','Mar','Apr','May','Jun','Jul','Aug','Sep','Oct','Nov','Dec'] \n",
    "    return \" \".join((date.split('/')[0],MONTH[int(date.split('/')[1])],date.split('/')[2]))"
   ]
  },
  {
   "cell_type": "code",
   "execution_count": 2,
   "id": "29365fa7",
   "metadata": {},
   "outputs": [
    {
     "data": {
      "text/plain": [
       "'01 Jan 2001'"
      ]
     },
     "execution_count": 2,
     "metadata": {},
     "output_type": "execute_result"
    }
   ],
   "source": [
    "get_well_format('01/01/2001')"
   ]
  },
  {
   "cell_type": "code",
   "execution_count": 3,
   "id": "c12b85ec",
   "metadata": {},
   "outputs": [
    {
     "data": {
      "text/plain": [
       "'20 May 2010'"
      ]
     },
     "execution_count": 3,
     "metadata": {},
     "output_type": "execute_result"
    }
   ],
   "source": [
    "get_well_format('20/5/2010')"
   ]
  },
  {
   "cell_type": "code",
   "execution_count": 4,
   "id": "aa85bdaf",
   "metadata": {},
   "outputs": [
    {
     "data": {
      "text/plain": [
       "'9 Sep 2021'"
      ]
     },
     "execution_count": 4,
     "metadata": {},
     "output_type": "execute_result"
    }
   ],
   "source": [
    "get_well_format('9/9/2021')"
   ]
  },
  {
   "cell_type": "code",
   "execution_count": null,
   "id": "a7d915b4",
   "metadata": {},
   "outputs": [],
   "source": []
  }
 ],
 "metadata": {
  "kernelspec": {
   "display_name": "Python 3 (ipykernel)",
   "language": "python",
   "name": "python3"
  },
  "language_info": {
   "codemirror_mode": {
    "name": "ipython",
    "version": 3
   },
   "file_extension": ".py",
   "mimetype": "text/x-python",
   "name": "python",
   "nbconvert_exporter": "python",
   "pygments_lexer": "ipython3",
   "version": "3.9.12"
  }
 },
 "nbformat": 4,
 "nbformat_minor": 5
}
